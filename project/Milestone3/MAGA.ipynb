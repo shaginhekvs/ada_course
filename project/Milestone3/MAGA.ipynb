{
 "cells": [
  {
   "cell_type": "code",
   "execution_count": 1,
   "metadata": {},
   "outputs": [
    {
     "name": "stderr",
     "output_type": "stream",
     "text": [
      "/home/keshav/anaconda3/lib/python3.6/site-packages/urllib3/contrib/pyopenssl.py:46: DeprecationWarning: OpenSSL.rand is deprecated - you should use os.urandom instead\n",
      "  import OpenSSL.SSL\n",
      "/home/keshav/anaconda3/lib/python3.6/site-packages/scipy/sparse/sparsetools.py:20: DeprecationWarning: `scipy.sparse.sparsetools` is deprecated!\n",
      "scipy.sparse.sparsetools is a private module for scipy.sparse, and should not be used.\n",
      "  _deprecated()\n"
     ]
    }
   ],
   "source": [
    "from Helpers import *\n",
    "\n",
    "#Constants\n",
    "class style:\n",
    "   BOLD = '\\033[1m'\n",
    "   END = '\\033[0m'"
   ]
  },
  {
   "cell_type": "markdown",
   "metadata": {},
   "source": [
    "# Data reading\n",
    "\n",
    "We obtain the data from Make America Great Again , which was the election campaign of Trump and the protests against it from 1 source:\n",
    "\n",
    "* From 2013-2017  we use tweets using *GetOldTweets-python* API, which returns all information about the tweets but the language. Since the number of tweets can be so many, we filter 1000 tweets per 6 hours for the purpose of this analysis. \n",
    "\n",
    "###### Make America Great Again (#MAGA) \n",
    "#MAGA has 2 facets : people in favour and against it As people against the protest don't normally use #BlackLivesMatter hashtag, because its use is a measure of its  impact and succces we obtain hashtags that are tipically considered used from each of the sides of the protest. We obtain the following hashtags, taking into account that the search is not case sensitive:\n",
    "\n",
    "* in favour of the protest :  #NotMyPresident , #TheResistance , #Resist , #TakeAKnee\n",
    "* Against the protest (MAGA): #MAGA #MakeAmericaGreatAgain\n",
    "Throughtout this notebook we will refer to those hashtags against #MAGA as  #Resist, as it's includes the others. This way, we have tweets from both in favour and against the protest and we can observe the trends and tendencies in each.\n",
    "\n",
    "We load tweets from both sources mentioned above using the function *read_dataframes*, whose definition can be found in the helpers notebook. The columns of the resulting dataframe are the following:\n",
    "  \n",
    "   * id: id of the tweet, converted to int\n",
    "   * date: with the format year/month/day\n",
    "   * epoch: timestamp aggregated by day\n",
    "   * hashes_inside: hashtags found in the tweets\n",
    "   * hashtag: hashtag used as filter to obtain the tweet\n",
    "   * user: who tweeted\n",
    "   * lang: language of the tweet\n",
    "   * retweets: number of retweets\n",
    "   * text: of the tweet\n",
    "   * to: retweet handles inside the tweet\n",
    "   "
   ]
  },
  {
   "cell_type": "markdown",
   "metadata": {},
   "source": [
    "** Make America Great Again **\n",
    "\n",
    "_Reading_\n",
    "\n",
    "We load all data with the *read_dataframes* function and make columnn header changes to conform to the style with other groupmates, defined in the Helpers notebook, which loads the tweets both from the dataset and the _GetOldTweets_ API.\n",
    "\n",
    "We obtain all tweets from the database containing the hashtag #makeamericagreatagain or variations with different capitalized letters by filtering by this hashtag in the text. These tweets range from 1st January 2013 to 29th August 2017, the last day captured in the database. There are 763148 tweets, written by 161214 different users, that is, 21% of the tweets are written by different people. "
   ]
  },
  {
   "cell_type": "code",
   "execution_count": 2,
   "metadata": {},
   "outputs": [
    {
     "data": {
      "text/html": [
       "<div>\n",
       "<style>\n",
       "    .dataframe thead tr:only-child th {\n",
       "        text-align: right;\n",
       "    }\n",
       "\n",
       "    .dataframe thead th {\n",
       "        text-align: left;\n",
       "    }\n",
       "\n",
       "    .dataframe tbody tr th {\n",
       "        vertical-align: top;\n",
       "    }\n",
       "</style>\n",
       "<table border=\"1\" class=\"dataframe\">\n",
       "  <thead>\n",
       "    <tr style=\"text-align: right;\">\n",
       "      <th></th>\n",
       "      <th>date</th>\n",
       "      <th>hashes_inside</th>\n",
       "      <th>to</th>\n",
       "      <th>retweets</th>\n",
       "      <th>text</th>\n",
       "      <th>user</th>\n",
       "      <th>hashtag</th>\n",
       "      <th>epoch</th>\n",
       "    </tr>\n",
       "    <tr>\n",
       "      <th>id</th>\n",
       "      <th></th>\n",
       "      <th></th>\n",
       "      <th></th>\n",
       "      <th></th>\n",
       "      <th></th>\n",
       "      <th></th>\n",
       "      <th></th>\n",
       "      <th></th>\n",
       "    </tr>\n",
       "  </thead>\n",
       "  <tbody>\n",
       "    <tr>\n",
       "      <th>285901167475707904</th>\n",
       "      <td>2013-01-01 01:12:04.000000</td>\n",
       "      <td>#prom #maga #18th</td>\n",
       "      <td></td>\n",
       "      <td>0</td>\n",
       "      <td>The only part of this year I'm really looking ...</td>\n",
       "      <td>jess_atthedisco</td>\n",
       "      <td>#maga</td>\n",
       "      <td>1.356999e+09</td>\n",
       "    </tr>\n",
       "    <tr>\n",
       "      <th>285907596190298112</th>\n",
       "      <td>2013-01-01 01:37:37.000000</td>\n",
       "      <td>#2013 #18 #maga #car #skiing #singapore #every...</td>\n",
       "      <td></td>\n",
       "      <td>0</td>\n",
       "      <td>#2013 #18 #maga #car #skiing #singapore #every...</td>\n",
       "      <td>livbroadhead</td>\n",
       "      <td>#maga</td>\n",
       "      <td>1.357001e+09</td>\n",
       "    </tr>\n",
       "    <tr>\n",
       "      <th>285908412414435330</th>\n",
       "      <td>2013-01-01 01:40:52.000000</td>\n",
       "      <td>#Avengers #WatchTheThrone #Maga #TheDarkKnight...</td>\n",
       "      <td></td>\n",
       "      <td>0</td>\n",
       "      <td>#Avengers #WatchTheThrone #Maga #TheDarkKnight...</td>\n",
       "      <td>the_forger</td>\n",
       "      <td>#maga</td>\n",
       "      <td>1.357001e+09</td>\n",
       "    </tr>\n",
       "    <tr>\n",
       "      <th>285911143199932416</th>\n",
       "      <td>2013-01-01 01:51:43.000000</td>\n",
       "      <td>#perf #liverpool #maga #bringiton</td>\n",
       "      <td>@Luciieh12 @DanielleJolley_</td>\n",
       "      <td>0</td>\n",
       "      <td>Entering 2013 with @Luciieh12 @DanielleJolley_...</td>\n",
       "      <td>eleanor_vials</td>\n",
       "      <td>#maga</td>\n",
       "      <td>1.357002e+09</td>\n",
       "    </tr>\n",
       "    <tr>\n",
       "      <th>285913352490852352</th>\n",
       "      <td>2013-01-01 02:00:29.000000</td>\n",
       "      <td>#slutdrop #maga</td>\n",
       "      <td></td>\n",
       "      <td>0</td>\n",
       "      <td>Lets get fucking mortal #slutdrop #maga</td>\n",
       "      <td>amymay08</td>\n",
       "      <td>#maga</td>\n",
       "      <td>1.357002e+09</td>\n",
       "    </tr>\n",
       "  </tbody>\n",
       "</table>\n",
       "</div>"
      ],
      "text/plain": [
       "                                          date  \\\n",
       "id                                               \n",
       "285901167475707904  2013-01-01 01:12:04.000000   \n",
       "285907596190298112  2013-01-01 01:37:37.000000   \n",
       "285908412414435330  2013-01-01 01:40:52.000000   \n",
       "285911143199932416  2013-01-01 01:51:43.000000   \n",
       "285913352490852352  2013-01-01 02:00:29.000000   \n",
       "\n",
       "                                                        hashes_inside  \\\n",
       "id                                                                      \n",
       "285901167475707904                                  #prom #maga #18th   \n",
       "285907596190298112  #2013 #18 #maga #car #skiing #singapore #every...   \n",
       "285908412414435330  #Avengers #WatchTheThrone #Maga #TheDarkKnight...   \n",
       "285911143199932416                  #perf #liverpool #maga #bringiton   \n",
       "285913352490852352                                    #slutdrop #maga   \n",
       "\n",
       "                                             to retweets  \\\n",
       "id                                                         \n",
       "285901167475707904                                     0   \n",
       "285907596190298112                                     0   \n",
       "285908412414435330                                     0   \n",
       "285911143199932416  @Luciieh12 @DanielleJolley_        0   \n",
       "285913352490852352                                     0   \n",
       "\n",
       "                                                                 text  \\\n",
       "id                                                                      \n",
       "285901167475707904  The only part of this year I'm really looking ...   \n",
       "285907596190298112  #2013 #18 #maga #car #skiing #singapore #every...   \n",
       "285908412414435330  #Avengers #WatchTheThrone #Maga #TheDarkKnight...   \n",
       "285911143199932416  Entering 2013 with @Luciieh12 @DanielleJolley_...   \n",
       "285913352490852352            Lets get fucking mortal #slutdrop #maga   \n",
       "\n",
       "                               user hashtag         epoch  \n",
       "id                                                         \n",
       "285901167475707904  jess_atthedisco   #maga  1.356999e+09  \n",
       "285907596190298112     livbroadhead   #maga  1.357001e+09  \n",
       "285908412414435330       the_forger   #maga  1.357001e+09  \n",
       "285911143199932416    eleanor_vials   #maga  1.357002e+09  \n",
       "285913352490852352         amymay08   #maga  1.357002e+09  "
      ]
     },
     "execution_count": 2,
     "metadata": {},
     "output_type": "execute_result"
    }
   ],
   "source": [
    "#Read the tweets\n",
    "tweet_maga=read_database('maga')\n",
    "conform_dataframes(tweet_maga,'#maga')\n",
    "#Sort by date\n",
    "tweet_maga.sort_values(by='date', inplace =True)\n",
    "tweet_maga.head()"
   ]
  },
  {
   "cell_type": "markdown",
   "metadata": {},
   "source": [
    "** RESIST **\n",
    "\n",
    "We also obtain all tweets from others hashtags suchs as __#NOTMYPRESIDENT,#TheResistance , #Resist , #TakeAKnee # normally considered against the #MAGA movement. __ In this case, we can observe that the tweets start on 1 January 2013.  \n",
    "\n",
    "There are only 687888 tweets from these hashtags.However, 181167 are from different people, which seems to indicate that they were slightly more engaged than in favour of the protest. "
   ]
  },
  {
   "cell_type": "code",
   "execution_count": 3,
   "metadata": {},
   "outputs": [
    {
     "data": {
      "text/html": [
       "<div>\n",
       "<style>\n",
       "    .dataframe thead tr:only-child th {\n",
       "        text-align: right;\n",
       "    }\n",
       "\n",
       "    .dataframe thead th {\n",
       "        text-align: left;\n",
       "    }\n",
       "\n",
       "    .dataframe tbody tr th {\n",
       "        vertical-align: top;\n",
       "    }\n",
       "</style>\n",
       "<table border=\"1\" class=\"dataframe\">\n",
       "  <thead>\n",
       "    <tr style=\"text-align: right;\">\n",
       "      <th></th>\n",
       "      <th>date</th>\n",
       "      <th>hashes_inside</th>\n",
       "      <th>to</th>\n",
       "      <th>retweets</th>\n",
       "      <th>text</th>\n",
       "      <th>user</th>\n",
       "      <th>hashtag</th>\n",
       "      <th>epoch</th>\n",
       "    </tr>\n",
       "    <tr>\n",
       "      <th>id</th>\n",
       "      <th></th>\n",
       "      <th></th>\n",
       "      <th></th>\n",
       "      <th></th>\n",
       "      <th></th>\n",
       "      <th></th>\n",
       "      <th></th>\n",
       "      <th></th>\n",
       "    </tr>\n",
       "  </thead>\n",
       "  <tbody>\n",
       "    <tr>\n",
       "      <th>285933329017077762</th>\n",
       "      <td>2013-01-01 03:19:52.000000</td>\n",
       "      <td>#TheResistance #FRSHTRB</td>\n",
       "      <td></td>\n",
       "      <td>2</td>\n",
       "      <td>My whole team bout to smash the scene #TheResi...</td>\n",
       "      <td>GlennWaco</td>\n",
       "      <td>#resist</td>\n",
       "      <td>1.357007e+09</td>\n",
       "    </tr>\n",
       "    <tr>\n",
       "      <th>285934424300867584</th>\n",
       "      <td>2013-01-01 03:24:13.000000</td>\n",
       "      <td>#OneOfLifesGreatMysteries #Obama #NotMyPreside...</td>\n",
       "      <td>@MatthewKBurke</td>\n",
       "      <td>3</td>\n",
       "      <td>RT @MatthewKBurke : #OneOfLifesGreatMysteries ...</td>\n",
       "      <td>HopeNChangeFail</td>\n",
       "      <td>#resist</td>\n",
       "      <td>1.357007e+09</td>\n",
       "    </tr>\n",
       "    <tr>\n",
       "      <th>285935975379632130</th>\n",
       "      <td>2013-01-01 03:30:24.000000</td>\n",
       "      <td>#theresistance</td>\n",
       "      <td></td>\n",
       "      <td>0</td>\n",
       "      <td>#theresistance pic.twitter.com/6QXiZBGH</td>\n",
       "      <td>bengleason4360</td>\n",
       "      <td>#resist</td>\n",
       "      <td>1.357007e+09</td>\n",
       "    </tr>\n",
       "    <tr>\n",
       "      <th>285938168660910080</th>\n",
       "      <td>2013-01-01 03:39:06.000000</td>\n",
       "      <td>#NotMyPresident #Congress #Obama #FiscalCliff</td>\n",
       "      <td>@sohali2012</td>\n",
       "      <td>0</td>\n",
       "      <td>RT @sohali2012 : BREAKING: Dumbasses have agre...</td>\n",
       "      <td>HopeNChangeFail</td>\n",
       "      <td>#resist</td>\n",
       "      <td>1.357008e+09</td>\n",
       "    </tr>\n",
       "    <tr>\n",
       "      <th>285957422978330624</th>\n",
       "      <td>2013-01-01 04:55:37.000000</td>\n",
       "      <td>#theresistance #newyearseve</td>\n",
       "      <td></td>\n",
       "      <td>0</td>\n",
       "      <td>SPY !!!! #theresistance #newyearseve</td>\n",
       "      <td>jhpch</td>\n",
       "      <td>#resist</td>\n",
       "      <td>1.357013e+09</td>\n",
       "    </tr>\n",
       "  </tbody>\n",
       "</table>\n",
       "</div>"
      ],
      "text/plain": [
       "                                          date  \\\n",
       "id                                               \n",
       "285933329017077762  2013-01-01 03:19:52.000000   \n",
       "285934424300867584  2013-01-01 03:24:13.000000   \n",
       "285935975379632130  2013-01-01 03:30:24.000000   \n",
       "285938168660910080  2013-01-01 03:39:06.000000   \n",
       "285957422978330624  2013-01-01 04:55:37.000000   \n",
       "\n",
       "                                                        hashes_inside  \\\n",
       "id                                                                      \n",
       "285933329017077762                            #TheResistance #FRSHTRB   \n",
       "285934424300867584  #OneOfLifesGreatMysteries #Obama #NotMyPreside...   \n",
       "285935975379632130                                     #theresistance   \n",
       "285938168660910080      #NotMyPresident #Congress #Obama #FiscalCliff   \n",
       "285957422978330624                        #theresistance #newyearseve   \n",
       "\n",
       "                                to retweets  \\\n",
       "id                                            \n",
       "285933329017077762                        2   \n",
       "285934424300867584  @MatthewKBurke        3   \n",
       "285935975379632130                        0   \n",
       "285938168660910080     @sohali2012        0   \n",
       "285957422978330624                        0   \n",
       "\n",
       "                                                                 text  \\\n",
       "id                                                                      \n",
       "285933329017077762  My whole team bout to smash the scene #TheResi...   \n",
       "285934424300867584  RT @MatthewKBurke : #OneOfLifesGreatMysteries ...   \n",
       "285935975379632130            #theresistance pic.twitter.com/6QXiZBGH   \n",
       "285938168660910080  RT @sohali2012 : BREAKING: Dumbasses have agre...   \n",
       "285957422978330624               SPY !!!! #theresistance #newyearseve   \n",
       "\n",
       "                               user  hashtag         epoch  \n",
       "id                                                          \n",
       "285933329017077762        GlennWaco  #resist  1.357007e+09  \n",
       "285934424300867584  HopeNChangeFail  #resist  1.357007e+09  \n",
       "285935975379632130   bengleason4360  #resist  1.357007e+09  \n",
       "285938168660910080  HopeNChangeFail  #resist  1.357008e+09  \n",
       "285957422978330624            jhpch  #resist  1.357013e+09  "
      ]
     },
     "execution_count": 3,
     "metadata": {},
     "output_type": "execute_result"
    }
   ],
   "source": [
    "#Read resist tweets\n",
    "tweet_resist=read_database('antimaga')\n",
    "conform_dataframes(tweet_resist,'#resist')\n",
    "tweet_resist.sort_values(by='date', inplace =True) #Sort by date\n",
    "tweet_resist.head()"
   ]
  },
  {
   "cell_type": "code",
   "execution_count": 8,
   "metadata": {},
   "outputs": [
    {
     "data": {
      "text/html": [
       "<div>\n",
       "<style>\n",
       "    .dataframe thead tr:only-child th {\n",
       "        text-align: right;\n",
       "    }\n",
       "\n",
       "    .dataframe thead th {\n",
       "        text-align: left;\n",
       "    }\n",
       "\n",
       "    .dataframe tbody tr th {\n",
       "        vertical-align: top;\n",
       "    }\n",
       "</style>\n",
       "<table border=\"1\" class=\"dataframe\">\n",
       "  <thead>\n",
       "    <tr style=\"text-align: right;\">\n",
       "      <th></th>\n",
       "      <th>event</th>\n",
       "      <th>date</th>\n",
       "    </tr>\n",
       "  </thead>\n",
       "  <tbody>\n",
       "    <tr>\n",
       "      <th>0</th>\n",
       "      <td>Trump announces his candidacy</td>\n",
       "      <td>2015-06-16</td>\n",
       "    </tr>\n",
       "    <tr>\n",
       "      <th>1</th>\n",
       "      <td>Trump is elected. First apparition of #TheResi...</td>\n",
       "      <td>2016-11-08</td>\n",
       "    </tr>\n",
       "    <tr>\n",
       "      <th>2</th>\n",
       "      <td>Inauguration of Trump as president</td>\n",
       "      <td>2016-12-05</td>\n",
       "    </tr>\n",
       "    <tr>\n",
       "      <th>3</th>\n",
       "      <td>Women’s March</td>\n",
       "      <td>2017-01-19</td>\n",
       "    </tr>\n",
       "    <tr>\n",
       "      <th>4</th>\n",
       "      <td>Greenpeace activists hang a 70ft banner that r...</td>\n",
       "      <td>2017-01-21</td>\n",
       "    </tr>\n",
       "  </tbody>\n",
       "</table>\n",
       "</div>"
      ],
      "text/plain": [
       "                                               event       date\n",
       "0                      Trump announces his candidacy 2015-06-16\n",
       "1  Trump is elected. First apparition of #TheResi... 2016-11-08\n",
       "2                 Inauguration of Trump as president 2016-12-05\n",
       "3                                     Women’s March  2017-01-19\n",
       "4  Greenpeace activists hang a 70ft banner that r... 2017-01-21"
      ]
     },
     "execution_count": 8,
     "metadata": {},
     "output_type": "execute_result"
    }
   ],
   "source": [
    "event=['Trump announces his candidacy',\n",
    "'Trump is elected. First apparition of #TheResistance and #Resist'\n",
    "'Halt on the construction of the Dakota Access Pipeline',\n",
    "'Inauguration of Trump as president', \n",
    "'Women’s March ',\n",
    "'Greenpeace activists hang a 70ft banner that read “RESIST” on a 300ft-high crane outside of the White House',\n",
    "'Investigation of Russia’s involvement in US elections',\n",
    "'Trump announces the Muslim Ban',\n",
    "'Melissa McCarthy as Sean Spicer on SNL',\n",
    "'Muslim ban rejected by Federal court',\n",
    "'Michael Flinn resigns',\n",
    "'FBI confirms that Trump’s team is under investigation for the involvement of Russia in the elections',\n",
    "'100 days of Trump as president',\n",
    "'#TakeAKnee is born: Trump insults NFL players who kneels during the national anthem']\n",
    "\n",
    "\n",
    "date=['2015/06/16',\n",
    "'2016/11/08',\n",
    "'2016/12/05',\n",
    "'2017/01/19',\n",
    "'2017/01/21',\n",
    "'2017/01/25',\n",
    "'2017/01/27',\n",
    "'2017/02/04',\n",
    "'2017/02/09',\n",
    "'2017/02/13',\n",
    "'2017/03/20',\n",
    "'2017/04/29',\n",
    "'2017/09/22']\n",
    "\n",
    "#Create dataframe\n",
    "events=pd.DataFrame()\n",
    "#Add data\n",
    "events['event']=event\n",
    "events['date']=pd.to_datetime(date, format='%Y/%m/%d')\n",
    "events.sort_values(by='date', inplace=True) #Sort by date\n",
    "events.head()"
   ]
  },
  {
   "cell_type": "markdown",
   "metadata": {},
   "source": [
    "## Success of the protest\n",
    "\n",
    "We study the success of the protests as the number of tweets and retweets over time. In addition, we also see how many people contributed to the hashtag and in which language.\n",
    "\n",
    "We first obtain some basic statistics about both sides of the protest."
   ]
  },
  {
   "cell_type": "code",
   "execution_count": 9,
   "metadata": {},
   "outputs": [
    {
     "name": "stdout",
     "output_type": "stream",
     "text": [
      "\u001b[1m#MAGA\u001b[0m\n",
      "Number of #maga tweets:  763148\n",
      "Tweets from 2013-01-01 01:12:04.000000 to 2017-10-29 01:59:58.000000\n",
      "Number of different users tweeting: 161214,  21.124866998275564% of the total\n",
      "\u001b[1m#Resist\u001b[0m\n",
      "Number of #AllLivesMatter tweets:  687888\n",
      "Tweets from 2013-01-01 03:19:52.000000 to 2017-10-29 01:59:47.000000\n",
      "Number of different users tweeting: 181167,  26.336700160491244% of the total\n"
     ]
    }
   ],
   "source": [
    "#Small analysis of data\n",
    "print(style.BOLD+'#MAGA'+style.END)\n",
    "l_maga=len(tweet_maga)\n",
    "print('Number of #maga tweets: ', l_maga)\n",
    "print('Tweets from {} to {}'.format(tweet_maga['date'].iloc[0], tweet_maga['date'].iloc[-1]))\n",
    "print('Number of different users tweeting: {},  {}% of the total'.format(len(np.unique(tweet_maga['user'])), \n",
    "                                                                        100*len(np.unique(tweet_maga['user']))/l_maga))\n",
    "\n",
    "\n",
    "print(style.BOLD+'#Resist'+style.END)\n",
    "n_antimaga=len(tweet_resist)\n",
    "print('Number of #AllLivesMatter tweets: ', n_antimaga)\n",
    "print('Tweets from {} to {}'.format(tweet_resist['date'].iloc[0], tweet_resist['date'].iloc[-1]))\n",
    "print('Number of different users tweeting: {},  {}% of the total'.format(len(np.unique(tweet_resist['user'])), \n",
    "                                                                        100*len(np.unique(tweet_resist['user']))/n_antimaga))\n",
    "\n"
   ]
  },
  {
   "cell_type": "code",
   "execution_count": null,
   "metadata": {
    "collapsed": true
   },
   "outputs": [],
   "source": []
  },
  {
   "cell_type": "code",
   "execution_count": 12,
   "metadata": {},
   "outputs": [
    {
     "name": "stderr",
     "output_type": "stream",
     "text": [
      "/data/ADA_project/Milestones/Helpers.py:704: SettingWithCopyWarning:\n",
      "\n",
      "\n",
      "A value is trying to be set on a copy of a slice from a DataFrame.\n",
      "Try using .loc[row_indexer,col_indexer] = value instead\n",
      "\n",
      "See the caveats in the documentation: http://pandas.pydata.org/pandas-docs/stable/indexing.html#indexing-view-versus-copy\n",
      "\n",
      "/data/ADA_project/Milestones/Helpers.py:717: SettingWithCopyWarning:\n",
      "\n",
      "\n",
      "A value is trying to be set on a copy of a slice from a DataFrame.\n",
      "Try using .loc[row_indexer,col_indexer] = value instead\n",
      "\n",
      "See the caveats in the documentation: http://pandas.pydata.org/pandas-docs/stable/indexing.html#indexing-view-versus-copy\n",
      "\n"
     ]
    },
    {
     "data": {
      "image/png": "[encoded data removed]",
      "text/plain": [
       "<matplotlib.figure.Figure at 0x7f94603a86d8>"
      ]
     },
     "metadata": {},
     "output_type": "display_data"
    }
   ],
   "source": [
    "#Static plot\n",
    "tweet_maga['date']=pd.to_datetime(tweet_maga['date'])\n",
    "tweet_resist['date']=pd.to_datetime(tweet_resist['date'])\n",
    "plot_num_tweets(tweet_maga, \"#MAGA\", data2=tweet_resist, label2=\"#Resist\", date_to='01-01-2015')"
   ]
  },
  {
   "cell_type": "code",
   "execution_count": 16,
   "metadata": {},
   "outputs": [
    {
     "name": "stderr",
     "output_type": "stream",
     "text": [
      "/home/keshav/anaconda3/lib/python3.6/site-packages/plotly/plotly/plotly.py:224: UserWarning:\n",
      "\n",
      "Woah there! Look at all those points! Due to browser limitations, the Plotly SVG drawing functions have a hard time graphing more than 500k data points for line charts, or 40k points for other types of charts. Here are some suggestions:\n",
      "(1) Use the `plotly.graph_objs.Scattergl` trace object to generate a WebGl graph.\n",
      "(2) Trying using the image API to return an image instead of a graph URL\n",
      "(3) Use matplotlib\n",
      "(4) See if you can create your visualization with fewer data points\n",
      "\n",
      "If the visualization you're using aggregates points (e.g., box plot, histogram, etc.) you can disregard this warning.\n",
      "\n",
      "/home/keshav/anaconda3/lib/python3.6/site-packages/plotly/api/v1/clientresp.py:40: UserWarning:\n",
      "\n",
      "Estimated Draw Time Too Long\n",
      "\n"
     ]
    },
    {
     "name": "stdout",
     "output_type": "stream",
     "text": [
      "High five! You successfully sent some data to your account on plotly. View your plot in your browser at https://plot.ly/~shaginhekvs/0 or inside your plot.ly account where it is named 'simple-annotation'\n"
     ]
    }
   ],
   "source": [
    "#Interactive plot\n",
    "import plotly\n",
    "plotly.tools.set_credentials_file(username='shaginhekvs', api_key='NcDuEDhfKPiEkEuKQQqB')\n",
    "plot_num_tweets_interactive(tweet_maga, \"#MAGA\", tweet_resist, \"#Resist\", events=events,date_to='01-01-2015')"
   ]
  },
  {
   "cell_type": "code",
   "execution_count": null,
   "metadata": {},
   "outputs": [],
   "source": [
    "## Polarization of the hashtags\n",
    "antitags=['#TAKEAKNEE' '#RESIST', '#THERESISTANCE']\n",
    "_=cooccurence_hashtag(tweet_maga, antitags, '#MAGA')"
   ]
  },
  {
   "cell_type": "code",
   "execution_count": 3,
   "metadata": {
    "collapsed": true
   },
   "outputs": [],
   "source": [
    "def filter_resample(x):\n",
    "    if(len(x)>0):\n",
    "        return x.sample(n=1)[0]\n",
    "    else:\n",
    "        return ''\n",
    "    \n",
    "def filter_before_lda(tweet_df):\n",
    "    tweet_df['id']=tweet_df.index\n",
    "    tweet_df.index=pd.to_datetime(tweet_df['date'])\n",
    "    tweet_df=tweet_df.loc['2016-01-01':'2017-11-30']\n",
    "    tweet_df=tweet_df['text'].groupby(pd.TimeGrouper(freq='900s')).agg({'text':filter_resample})\n",
    "    tweet_df=tweet_df[tweet_df.text!='']\n",
    "    return tweet_df   \n",
    "\n"
   ]
  },
  {
   "cell_type": "code",
   "execution_count": null,
   "metadata": {
    "collapsed": true
   },
   "outputs": [],
   "source": [
    "preprocessing_options={'handles':False, 'urls':False}\n",
    "seed = 42 # reproducibility!\n",
    "random.seed(seed)\n",
    "processed_tweets=[preprocess_tweet(tweet, handles=False,urls=False) for tweet in filter_before_lda(tweet_maga).text.values]\n",
    "ldamodel, dictionary, doc_term_matrix =get_topics_list(processed_tweets, **preprocessing_options)\n",
    "\n",
    "lda_docs_dict=dict(model=ldamodel,dictionary=dictionary,doc=doc_term_matrix)\n",
    "pickle.dump(lda_docs_dict,open('./data/lda_docs_dict_maga','wb'))"
   ]
  },
  {
   "cell_type": "code",
   "execution_count": null,
   "metadata": {
    "collapsed": true
   },
   "outputs": [],
   "source": [
    "lda_docs_dict=pickle.load(open('./data/lda_docs_dict_maga','rb'))\n",
    "data =  pyLDAvis.gensim.prepare(lda_docs_dict['model'], lda_docs_dict['doc'], lda_docs_dict['dictionary'])\n",
    "pyLDAvis.display(data)"
   ]
  },
  {
   "cell_type": "code",
   "execution_count": null,
   "metadata": {},
   "outputs": [],
   "source": [
    "#RESIST\n",
    "processed_tweets=[preprocess_tweet(tweet, handles=False,urls=False) for tweet in filter_before_lda(tweet_resist).text.values]\n",
    "preprocessing_options={'handles':False, 'urls':False}\n",
    "seed = 42 # reproducibility!\n",
    "random.seed(seed)\n",
    "ldamodel_alm, dictionary_alm, doc_term_matrix_alm =get_topics_list(processed_tweets, **preprocessing_options)\n",
    "\n",
    "lda_docs_dict=dict(model=ldamodel,dictionary=dictionary,doc=doc_term_matrix)\n",
    "pickle.dump(lda_docs_dict,open('./lda_docs_dict_antimaga','wb'))\n",
    "\n"
   ]
  },
  {
   "cell_type": "code",
   "execution_count": null,
   "metadata": {},
   "outputs": [
    {
     "name": "stderr",
     "output_type": "stream",
     "text": [
      "/home/keshav/anaconda3/lib/python3.6/site-packages/pyLDAvis/_prepare.py:387: DeprecationWarning:\n",
      "\n",
      "\n",
      ".ix is deprecated. Please use\n",
      ".loc for label based indexing or\n",
      ".iloc for positional indexing\n",
      "\n",
      "See the documentation here:\n",
      "http://pandas.pydata.org/pandas-docs/stable/indexing.html#ix-indexer-is-deprecated\n",
      "\n"
     ]
    }
   ],
   "source": [
    "lda_docs_dict=pickle.load(open('./lda_docs_dict_antimaga','rb'))\n",
    "data =  pyLDAvis.gensim.prepare(lda_docs_dict['model'], lda_docs_dict['doc'], lda_docs_dict['dictionary'])\n",
    "pyLDAvis.display(data)"
   ]
  },
  {
   "cell_type": "markdown",
   "metadata": {},
   "source": [
    "# Sentiment analysis"
   ]
  },
  {
   "cell_type": "markdown",
   "metadata": {},
   "source": [
    "We study the polarity of the tweets so we can classify them as:\n",
    "* Positive: if polarity is bigger than 0\n",
    "* Negative: if polarity is smaller than 0\n",
    "* Neutral: if polarity is 0\n",
    "\n",
    "In addition, we also obtain the subjectivity of the tweet which indicates whether the tweet is objective or rational (subjectivity < 0.5); subjective or emotional (subjectivity > 0.5) or neutral (subjectivity=0.5). This allows an analysis of how people react and how emotionally envolved are they.\n",
    "\n",
    "** MAGA **\n",
    "\n",
    "We first obtain the polarity and subjectivity and add it to the dataframe for every tweet using the *get_tweet_sentiment* function. "
   ]
  },
  {
   "cell_type": "code",
   "execution_count": null,
   "metadata": {
    "collapsed": true
   },
   "outputs": [],
   "source": [
    "#Get setiments\n",
    "polarity_maga, subj_maga=zip(*map(lambda tweet: get_tweet_sentiment(tweet), tweet_maga.text.values))\n",
    "tweet_maga['polarity']=polarity_maga\n",
    "tweet_maga['subj']=subj_maga\n",
    "\n",
    "pickle.dump(tweet_maga,open('./maga_df_pol_sub','wb'))"
   ]
  },
  {
   "cell_type": "code",
   "execution_count": null,
   "metadata": {
    "collapsed": true
   },
   "outputs": [],
   "source": [
    "tweet_maga=pickle.load(open('./maga_df_pol_sub','rb'))\n"
   ]
  },
  {
   "cell_type": "code",
   "execution_count": null,
   "metadata": {
    "collapsed": true
   },
   "outputs": [],
   "source": [
    "_=plot_type_sentiment('polarity',tweet_maga, 'MAGA', events=events, date_to='1-1-2013')"
   ]
  },
  {
   "cell_type": "code",
   "execution_count": null,
   "metadata": {
    "collapsed": true
   },
   "outputs": [],
   "source": [
    "_=plot_type_sentiment('subj',tweet_maga, 'MAGA', events=events, date_to='1-1-2013')"
   ]
  },
  {
   "cell_type": "code",
   "execution_count": null,
   "metadata": {
    "collapsed": true
   },
   "outputs": [],
   "source": [
    "#Get setiments\n",
    "polarity_maga, subj_maga=zip(*map(lambda tweet: get_tweet_sentiment(tweet), tweet_resist.text.values))\n",
    "tweet_maga['polarity']=polarity_maga\n",
    "tweet_maga['subj']=subj_maga\n",
    "\n",
    "pickle.dump(tweet_resist,open('./antimaga_df_pol_sub','wb'))"
   ]
  },
  {
   "cell_type": "code",
   "execution_count": null,
   "metadata": {
    "collapsed": true
   },
   "outputs": [],
   "source": [
    "tweet_resist=pickle.load(open('./antimaga_df_pol_sub','rb'))"
   ]
  },
  {
   "cell_type": "code",
   "execution_count": null,
   "metadata": {
    "collapsed": true
   },
   "outputs": [],
   "source": [
    "_=plot_type_sentiment('polarity',tweet_resist, 'Resist',  events=events, date_to='1-1-2013')"
   ]
  },
  {
   "cell_type": "code",
   "execution_count": null,
   "metadata": {
    "collapsed": true
   },
   "outputs": [],
   "source": [
    "_=plot_type_sentiment('subj',tweet_resist, 'Resist', events=events, date_to='1-1-2013')"
   ]
  },
  {
   "cell_type": "code",
   "execution_count": null,
   "metadata": {
    "collapsed": true
   },
   "outputs": [],
   "source": [
    "plot_type_sentiment_interactive('polarity',tweet_maga, 'MAGA', events=events, date_to='1-1-2013')"
   ]
  },
  {
   "cell_type": "code",
   "execution_count": null,
   "metadata": {
    "collapsed": true
   },
   "outputs": [],
   "source": [
    "plot_type_sentiment_interactive('subj',tweet_maga, 'MAGA', events=events, date_to='1-1-2013')"
   ]
  },
  {
   "cell_type": "code",
   "execution_count": null,
   "metadata": {
    "collapsed": true
   },
   "outputs": [],
   "source": [
    "plot_type_sentiment_interactive('polarity',tweet_reist, 'Resist', events=events, date_to='1-1-2013')"
   ]
  },
  {
   "cell_type": "code",
   "execution_count": null,
   "metadata": {
    "collapsed": true
   },
   "outputs": [],
   "source": [
    "plot_type_sentiment_interactive('subj',tweet_resist, 'Resist', events=events, date_to='1-1-2013')"
   ]
  },
  {
   "cell_type": "markdown",
   "metadata": {},
   "source": [
    "**Comparison of sentiment analysis in favour and against the protest**\n",
    "\n",
    "We plot both the mean polarity and subjectivity of both groups of the protest aggregated by week, in order to have more consistent trends than by day. In blue we show the #Resist tweets, while #MAGA are in Red. We do not plot the number of tweets consider positive, negative and so on because we consider more informative to know if they are slightly positive (small value of polarity) than the overall numbers\n",
    "\n",
    "_Polarity_\n",
    "\n",
    "First, we plot the polarity aggregating by the mean, as the std is small."
   ]
  },
  {
   "cell_type": "code",
   "execution_count": null,
   "metadata": {
    "collapsed": true
   },
   "outputs": [],
   "source": [
    "plot_sentiment_tweets('polarity',tweet_resist, 'Resist', tweet_maga, 'MAGA', events=events, metric='median', date_to='1-1-2013')"
   ]
  },
  {
   "cell_type": "markdown",
   "metadata": {},
   "source": [
    "_Subjectivity_\n",
    "\n",
    "Given the bigger standard deviations, we use the median to aggregate the subjectivity. We can observe that in the months were the protest was more viral (December and January 2015) the trends from both sides of the protest were similar. However, as time passes the tweets supporting #BlackLivesMatter tend to be more rational, while the ones against are still very emotional. Despite this, overall we can say that for this protest both of the sides tend to be very emotional.\n"
   ]
  },
  {
   "cell_type": "code",
   "execution_count": null,
   "metadata": {
    "collapsed": true
   },
   "outputs": [],
   "source": [
    "plot_sentiment_tweets('subj',tweet_resist, 'Resist', tweet_maga, 'MAGA', events=events, metric='median', date_to='1-01-2013')"
   ]
  },
  {
   "cell_type": "code",
   "execution_count": null,
   "metadata": {
    "collapsed": true
   },
   "outputs": [],
   "source": [
    "plot_sentiment_tweets_interactive('polarity',tweet_resist, 'Resist', tweet_maga, 'MAGA', events=events, metric='median', date_to='1-1-2013')"
   ]
  },
  {
   "cell_type": "code",
   "execution_count": null,
   "metadata": {
    "collapsed": true
   },
   "outputs": [],
   "source": [
    "plot_sentiment_tweets_interactive('subj',tweet_resist, 'Resist', tweet_maga, 'MAGA', events=events, metric='median', date_to='1-1-2013')"
   ]
  }
 ],
 "metadata": {
  "kernelspec": {
   "display_name": "Python 3",
   "language": "python",
   "name": "python3"
  },
  "language_info": {
   "codemirror_mode": {
    "name": "ipython",
    "version": 3
   },
   "file_extension": ".py",
   "mimetype": "text/x-python",
   "name": "python",
   "nbconvert_exporter": "python",
   "pygments_lexer": "ipython3",
   "version": "3.6.3"
  }
 },
 "nbformat": 4,
 "nbformat_minor": 2
}
