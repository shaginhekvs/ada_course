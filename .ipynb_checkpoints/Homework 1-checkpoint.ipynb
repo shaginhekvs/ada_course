{
 "cells": [
  {
   "cell_type": "markdown",
   "metadata": {},
   "source": [
    "# Table of Contents\n",
    " <p><div class=\"lev1\"><a href=\"#Task-1.-Compiling-Ebola-Data\"><span class=\"toc-item-num\">Task 1.&nbsp;&nbsp;</span>Compiling Ebola Data</a></div>\n",
    " <div class=\"lev1\"><a href=\"#Task-2.-RNA-Sequences\"><span class=\"toc-item-num\">Task 2.&nbsp;&nbsp;</span>RNA Sequences</a></div>\n",
    " <div class=\"lev1\"><a href=\"#Task-3.-Class-War-in-Titanic\"><span class=\"toc-item-num\">Task 3.&nbsp;&nbsp;</span>Class War in Titanic</a></div></p>"
   ]
  },
  {
   "cell_type": "code",
   "execution_count": 1,
   "metadata": {
    "collapsed": true
   },
   "outputs": [],
   "source": [
    "DATA_FOLDER = './Data/' # Use the data folder provided in Tutorial 02 - Intro to Pandas.\n",
    "import pandas as pd\n",
    "import pickle"
   ]
  },
  {
   "cell_type": "markdown",
   "metadata": {},
   "source": [
    "## Task 1. Compiling Ebola Data\n",
    "\n",
    "The `DATA_FOLDER/ebola` folder contains summarized reports of Ebola cases from three countries (Guinea, Liberia and Sierra Leone) during the recent outbreak of the disease in West Africa. For each country, there are daily reports that contain various information about the outbreak in several cities in each country.\n",
    "\n",
    "Use pandas to import these data files into a single `Dataframe`.\n",
    "Using this `DataFrame`, calculate for *each country*, the *daily average per month* of *new cases* and *deaths*.\n",
    "Make sure you handle all the different expressions for *new cases* and *deaths* that are used in the reports."
   ]
  },
  {
   "cell_type": "code",
   "execution_count": 6,
   "metadata": {
    "collapsed": true
   },
   "outputs": [],
   "source": [
    "import os\n",
    "root='./Data/ebola'\n",
    "ls_ebola_folders=os.listdir(root)\n",
    "# Write your answer here\n",
    "def create_df_folder(folder_path,index_col,date_col):\n",
    "    df=pd.DataFrame()\n",
    "    files_list=os.listdir(folder_path)\n",
    "    for file_name in files_list:\n",
    "        df_new=pd.DataFrame()\n",
    "        try:\n",
    "            df_new=pd.read_csv(folder_path+'/'+file_name,parse_dates=date_col,index_col=index_col)\n",
    "        except:\n",
    "            df_new=pd.read_csv(folder_path+'/'+file_name)\n",
    "        df=pd.concat([df,df_new],axis=0)\n",
    "        \n",
    "    return df"
   ]
  },
  {
   "cell_type": "code",
   "execution_count": 30,
   "metadata": {
    "collapsed": true
   },
   "outputs": [],
   "source": [
    "import os\n",
    "root='./Data/ebola'\n",
    "ls_ebola_folders=os.listdir(root)\n",
    "# Write your answer here\n",
    "def create_df_folder(folder_path):\n",
    "    df=pd.DataFrame()\n",
    "    files_list=os.listdir(folder_path)\n",
    "    for file_name in files_list:\n",
    "        df_new=pd.DataFrame()\n",
    "        try:\n",
    "            df_new=pd.read_csv(folder_path+'/'+file_name,parse_dates=['Date'])\n",
    "        except:\n",
    "            df_new=pd.read_csv(folder_path+'/'+file_name,parse_dates=['date'])\n",
    "            df_new.rename(columns={'date':'Date'},inplace=True)\n",
    "        df_new.index=df_new.Date\n",
    "        df_new.drop('Date')\n",
    "        df=pd.concat([df,df_new],axis=0)\n",
    "        \n",
    "    return df\n",
    "ebola_dfs_dict={}\n",
    "for folder in ls_ebola_folders:\n",
    "    ebola_dfs_dict[folder]=create_df_folder(root+'/'+folder)\n",
    "\n",
    "pickle.dump(ebola_dfs_dict,open('ebola_dict.p','wb'))\n"
   ]
  },
  {
   "cell_type": "code",
   "execution_count": 31,
   "metadata": {
    "collapsed": true
   },
   "outputs": [],
   "source": [
    "ebola_dfs_dict=pickle.load()"
   ]
  },
  {
   "cell_type": "code",
   "execution_count": 32,
   "metadata": {},
   "outputs": [
    {
     "name": "stdout",
     "output_type": "stream",
     "text": [
      "           Beyla Boffa Conakry Coyah Dabola Dalaba       Date  \\\n",
      "Date                                                            \n",
      "2014-08-04   NaN     0       5   NaN      0    NaN 2014-08-04   \n",
      "2014-08-04   NaN     0       0   NaN      0    NaN 2014-08-04   \n",
      "2014-08-04   NaN     0       1   NaN      0    NaN 2014-08-04   \n",
      "2014-08-04   NaN     0       6   NaN      0    NaN 2014-08-04   \n",
      "2014-08-04   NaN     0       9   NaN      0    NaN 2014-08-04   \n",
      "\n",
      "                                  Description Dinguiraye Dubreka  ...   \\\n",
      "Date                                                              ...    \n",
      "2014-08-04              New cases of suspects          0       0  ...    \n",
      "2014-08-04             New cases of probables          0       0  ...    \n",
      "2014-08-04             New cases of confirmed          0       0  ...    \n",
      "2014-08-04  Total new cases registered so far          0       0  ...    \n",
      "2014-08-04            Total cases of suspects          0       0  ...    \n",
      "\n",
      "           Kouroussa Lola Macenta Mzerekore Nzerekore Pita Siguiri Telimele  \\\n",
      "Date                                                                          \n",
      "2014-08-04         0  NaN       0       NaN         0    0       0        0   \n",
      "2014-08-04         0  NaN       0       NaN         0    0       0        0   \n",
      "2014-08-04         0  NaN       0       NaN         0    0       0        0   \n",
      "2014-08-04         0  NaN       0       NaN         0    0       0        0   \n",
      "2014-08-04         0  NaN       0       NaN         0    0       0        0   \n",
      "\n",
      "           Totals Yomou  \n",
      "Date                     \n",
      "2014-08-04      5   NaN  \n",
      "2014-08-04      0   NaN  \n",
      "2014-08-04      4   NaN  \n",
      "2014-08-04      9   NaN  \n",
      "2014-08-04     11   NaN  \n",
      "\n",
      "[5 rows x 25 columns]\n",
      "            Bomi County  Bong County       Date  Gbarpolu County  Grand Bassa  \\\n",
      "Date                                                                            \n",
      "2014-06-16          NaN          NaN 2014-06-16              NaN          NaN   \n",
      "2014-06-16          NaN          NaN 2014-06-16              NaN          NaN   \n",
      "2014-06-16          NaN          NaN 2014-06-16              NaN          NaN   \n",
      "2014-06-16          NaN          NaN 2014-06-16              NaN          NaN   \n",
      "2014-06-16          NaN          NaN 2014-06-16              NaN          NaN   \n",
      "\n",
      "            Grand Cape Mount  Grand Gedeh  Grand Kru  Lofa County  \\\n",
      "Date                                                                \n",
      "2014-06-16               NaN          NaN        NaN          1.0   \n",
      "2014-06-16               NaN          NaN        NaN          0.0   \n",
      "2014-06-16               NaN          NaN        NaN         21.0   \n",
      "2014-06-16               NaN          NaN        NaN          1.0   \n",
      "2014-06-16               NaN          NaN        NaN          4.0   \n",
      "\n",
      "            Margibi County  Maryland County  Montserrado County  National  \\\n",
      "Date                                                                        \n",
      "2014-06-16             NaN              NaN                 0.0       1.0   \n",
      "2014-06-16             NaN              NaN                 0.0       0.0   \n",
      "2014-06-16             NaN              NaN                 7.0      28.0   \n",
      "2014-06-16             NaN              NaN                 0.0       2.0   \n",
      "2014-06-16             NaN              NaN                 0.0       8.0   \n",
      "\n",
      "            Nimba County  River Gee County  RiverCess County  Sinoe County  \\\n",
      "Date                                                                         \n",
      "2014-06-16           NaN               NaN               NaN           NaN   \n",
      "2014-06-16           NaN               NaN               NaN           NaN   \n",
      "2014-06-16           NaN               NaN               NaN           NaN   \n",
      "2014-06-16           NaN               NaN               NaN           NaN   \n",
      "2014-06-16           NaN               NaN               NaN           NaN   \n",
      "\n",
      "            Unnamed: 18                          Variable  \n",
      "Date                                                       \n",
      "2014-06-16          NaN               Specimens collected  \n",
      "2014-06-16          NaN     Specimens pending for testing  \n",
      "2014-06-16          NaN            Total specimens tested  \n",
      "2014-06-16          NaN             Newly reported deaths  \n",
      "2014-06-16          NaN  Total death/s in confirmed cases  \n",
      "            34 Military Hospital      Bo  Bo EMC Bombali  Bonthe       Date  \\\n",
      "Date                                                                          \n",
      "2014-08-12                   NaN  654142     NaN  494139  168729 2014-08-12   \n",
      "2014-08-12                   NaN       0     NaN       0       0 2014-08-12   \n",
      "2014-08-12                   NaN       1     NaN       0       0 2014-08-12   \n",
      "2014-08-12                   NaN       1     NaN       0       0 2014-08-12   \n",
      "2014-08-12                   NaN       0     NaN       0       0 2014-08-12   \n",
      "\n",
      "            Hastings-F/Town Kailahun  Kambia  Kenema      ...        \\\n",
      "Date                                                      ...         \n",
      "2014-08-12              NaN   465048  341690  653013      ...         \n",
      "2014-08-12              NaN        0       0       3      ...         \n",
      "2014-08-12              NaN        0       0       9      ...         \n",
      "2014-08-12              NaN        0       0       0      ...         \n",
      "2014-08-12              NaN        0       0       9      ...         \n",
      "\n",
      "            Police traning School Port Loko Pujehun Tonkolili Unnamed: 18  \\\n",
      "Date                                                                        \n",
      "2014-08-12                    NaN    557978  335574    434937         NaN   \n",
      "2014-08-12                    NaN         1       0         0         NaN   \n",
      "2014-08-12                    NaN         0       0         0         NaN   \n",
      "2014-08-12                    NaN         0       0         0         NaN   \n",
      "2014-08-12                    NaN         2       0         0         NaN   \n",
      "\n",
      "           Western area  Western area combined  Western area rural  \\\n",
      "Date                                                                 \n",
      "2014-08-12          NaN                    NaN              263619   \n",
      "2014-08-12          NaN                    NaN                   0   \n",
      "2014-08-12          NaN                    NaN                   0   \n",
      "2014-08-12          NaN                    NaN                   0   \n",
      "2014-08-12          NaN                    NaN                   0   \n",
      "\n",
      "           Western area urban       variable  \n",
      "Date                                          \n",
      "2014-08-12            1040888     population  \n",
      "2014-08-12                  0    new_noncase  \n",
      "2014-08-12                  0  new_suspected  \n",
      "2014-08-12                  0   new_probable  \n",
      "2014-08-12                  0  new_confirmed  \n",
      "\n",
      "[5 rows x 27 columns]\n"
     ]
    }
   ],
   "source": []
  },
  {
   "cell_type": "markdown",
   "metadata": {},
   "source": [
    "## Task 2. RNA Sequences\n",
    "\n",
    "In the `DATA_FOLDER/microbiome` subdirectory, there are 9 spreadsheets of microbiome data that was acquired from high-throughput RNA sequencing procedures, along with a 10<sup>th</sup> file that describes the content of each. \n",
    "\n",
    "Use pandas to import the first 9 spreadsheets into a single `DataFrame`.\n",
    "Then, add the metadata information from the 10<sup>th</sup> spreadsheet as columns in the combined `DataFrame`.\n",
    "Make sure that the final `DataFrame` has a unique index and all the `NaN` values have been replaced by the tag `unknown`."
   ]
  },
  {
   "cell_type": "code",
   "execution_count": null,
   "metadata": {
    "collapsed": true
   },
   "outputs": [],
   "source": [
    "# Write your answer here"
   ]
  },
  {
   "cell_type": "markdown",
   "metadata": {},
   "source": [
    "## Task 3. Class War in Titanic\n",
    "\n",
    "Use pandas to import the data file `Data/titanic.xls`. It contains data on all the passengers that travelled on the Titanic."
   ]
  },
  {
   "cell_type": "code",
   "execution_count": null,
   "metadata": {
    "collapsed": true
   },
   "outputs": [],
   "source": [
    "from IPython.core.display import HTML\n",
    "HTML(filename=DATA_FOLDER+'/titanic.html')"
   ]
  },
  {
   "cell_type": "markdown",
   "metadata": {},
   "source": [
    "For each of the following questions state clearly your assumptions and discuss your findings:\n",
    "1. Describe the *type* and the *value range* of each attribute. Indicate and transform the attributes that can be `Categorical`. \n",
    "2. Plot histograms for the *travel class*, *embarkation port*, *sex* and *age* attributes. For the latter one, use *discrete decade intervals*. \n",
    "3. Calculate the proportion of passengers by *cabin floor*. Present your results in a *pie chart*.\n",
    "4. For each *travel class*, calculate the proportion of the passengers that survived. Present your results in *pie charts*.\n",
    "5. Calculate the proportion of the passengers that survived by *travel class* and *sex*. Present your results in *a single histogram*.\n",
    "6. Create 2 equally populated *age categories* and calculate survival proportions by *age category*, *travel class* and *sex*. Present your results in a `DataFrame` with unique index."
   ]
  },
  {
   "cell_type": "code",
   "execution_count": null,
   "metadata": {
    "collapsed": true
   },
   "outputs": [],
   "source": [
    "# Write your answer here"
   ]
  }
 ],
 "metadata": {
  "kernelspec": {
   "display_name": "Python 3",
   "language": "python",
   "name": "python3"
  },
  "language_info": {
   "codemirror_mode": {
    "name": "ipython",
    "version": 3
   },
   "file_extension": ".py",
   "mimetype": "text/x-python",
   "name": "python",
   "nbconvert_exporter": "python",
   "pygments_lexer": "ipython3",
   "version": "3.6.0"
  }
 },
 "nbformat": 4,
 "nbformat_minor": 2
}
